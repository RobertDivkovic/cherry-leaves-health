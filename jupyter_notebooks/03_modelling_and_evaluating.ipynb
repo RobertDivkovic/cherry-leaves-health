{
 "cells": [
  {
   "cell_type": "markdown",
   "id": "2c837b10",
   "metadata": {},
   "source": [
    "## 03 - Modelling and Evaluating\n",
    "\n",
    "### Objective"
   ]
  },
  {
   "cell_type": "markdown",
   "id": "20b460dd",
   "metadata": {},
   "source": [
    "Answer Business Requirement 2:\n",
    "\n",
    "- The client is interested to predict whether a cherry leaf is healthy or contains powdery mildew."
   ]
  },
  {
   "cell_type": "markdown",
   "id": "854c851c",
   "metadata": {},
   "source": [
    "### Inputs\n",
    "\n",
    "- inputs/cherry_leaves_split/train\n",
    "- inputs/cherry_leaves_split/val\n",
    "- inputs/cherry_leaves_split/test\n",
    "- outputs/02_data_visualisation/image_shape.pkl"
   ]
  },
  {
   "cell_type": "markdown",
   "id": "d0cb79d8",
   "metadata": {},
   "source": [
    "### Outputs\n",
    "\n",
    "- Model saved as .h5\n",
    "- Class indices saved as .pkl\n",
    "- Learning curves\n",
    "- Model evaluation score"
   ]
  },
  {
   "cell_type": "markdown",
   "id": "08ea39f2",
   "metadata": {},
   "source": [
    "### Imports"
   ]
  },
  {
   "cell_type": "code",
   "execution_count": null,
   "id": "0823ebfe",
   "metadata": {},
   "outputs": [],
   "source": [
    "import os\n",
    "import pandas as pd\n",
    "import numpy as np\n",
    "import matplotlib.pyplot as plt\n",
    "import seaborn as sns\n",
    "import joblib\n",
    "from matplotlib.image import imread\n",
    "from matplotlib.image import imread\n",
    "from tensorflow.keras.preprocessing.image import ImageDataGenerator, load_img, img_to_array\n",
    "from tensorflow.keras.models import Sequential, load_model\n",
    "from tensorflow.keras.layers import Conv2D, MaxPooling2D, Flatten, Dense, Dropout\n",
    "from tensorflow.keras.callbacks import EarlyStopping\n",
    "from tensorflow.keras import backend as K\n",
    "\n",
    "sns.set_style(\"whitegrid\")"
   ]
  },
  {
   "cell_type": "markdown",
   "id": "2416135e",
   "metadata": {},
   "source": [
    "### Set Working Directory"
   ]
  },
  {
   "cell_type": "code",
   "execution_count": null,
   "id": "49272280",
   "metadata": {},
   "outputs": [],
   "source": [
    "os.chdir('/workspaces/cherry-leaves-health')\n",
    "print(\"Current directory:\", os.getcwd())"
   ]
  },
  {
   "cell_type": "markdown",
   "id": "3166846c",
   "metadata": {},
   "source": [
    "### Set paths"
   ]
  },
  {
   "cell_type": "code",
   "execution_count": null,
   "id": "06eb4c45",
   "metadata": {},
   "outputs": [],
   "source": [
    "cwd = os.getcwd()\n",
    "print(\"Working directory set:\", cwd)\n",
    "\n",
    "train_path = \"/workspaces/cherry-leaves-health/inputs/cherry_leaves_split/train\"\n",
    "val_path = \"/workspaces/cherry-leaves-health/inputs/cherry_leaves_split/val\"\n",
    "test_path = \"/workspaces/cherry-leaves-health/inputs/cherry_leaves_split/test\"\n",
    "\n",
    "version = \"03_modelling_and_evaluating\"\n",
    "file_path = f\"outputs/{version}\"\n",
    "os.makedirs(file_path, exist_ok=True)"
   ]
  },
  {
   "cell_type": "markdown",
   "id": "deb29ad9",
   "metadata": {},
   "source": [
    "### Labels and image shape"
   ]
  },
  {
   "cell_type": "code",
   "execution_count": null,
   "id": "18b62e0d",
   "metadata": {},
   "outputs": [],
   "source": [
    "labels = os.listdir(train_path)\n",
    "print(\"Project Labels:\", labels)\n",
    "\n",
    "image_shape = joblib.load(\"outputs/02_data_visualisation/image_shape.pkl\")\n",
    "print(\"Image shape:\", image_shape)"
   ]
  },
  {
   "cell_type": "markdown",
   "id": "141cf526",
   "metadata": {},
   "source": [
    "### Image count distribution"
   ]
  },
  {
   "cell_type": "code",
   "execution_count": null,
   "id": "0c430b85",
   "metadata": {},
   "outputs": [],
   "source": [
    "df_freq = pd.DataFrame()\n",
    "for folder in ['train', 'val', 'test']:\n",
    "    for label in labels:\n",
    "        count = len(os.listdir(f\"inputs/cherry_leaves_split/{folder}/{label}\"))\n",
    "        df_freq = pd.concat([df_freq, pd.DataFrame([{\"Set\": folder, \"Label\": label, \"Frequency\": count}])])\n",
    "\n",
    "sns.barplot(data=df_freq, x='Set', y='Frequency', hue='Label')\n",
    "plt.title(\"Image Distribution by Set and Class\")\n",
    "plt.tight_layout()\n",
    "plt.savefig(f\"{file_path}/labels_distribution.png\", dpi=150)\n",
    "plt.show()"
   ]
  },
  {
   "cell_type": "markdown",
   "id": "bb3f5318",
   "metadata": {},
   "source": [
    "### Image Augmentation"
   ]
  },
  {
   "cell_type": "code",
   "execution_count": null,
   "id": "9bcf632b",
   "metadata": {},
   "outputs": [],
   "source": [
    "batch_size = 20\n",
    "\n",
    "train_datagen = ImageDataGenerator(\n",
    "    rescale=1./255,\n",
    "    rotation_range=20,\n",
    "    width_shift_range=0.1,\n",
    "    height_shift_range=0.1,\n",
    "    shear_range=0.1,\n",
    "    zoom_range=0.1,\n",
    "    horizontal_flip=True,\n",
    "    vertical_flip=True,\n",
    "    fill_mode='nearest'\n",
    ")\n",
    "\n",
    "val_test_datagen = ImageDataGenerator(rescale=1./255)\n",
    "\n",
    "train_set = train_datagen.flow_from_directory(train_path, target_size=image_shape[:2], batch_size=batch_size, class_mode='binary')\n",
    "val_set = val_test_datagen.flow_from_directory(val_path, target_size=image_shape[:2], batch_size=batch_size, class_mode='binary')\n",
    "test_set = val_test_datagen.flow_from_directory(test_path, target_size=image_shape[:2], batch_size=batch_size, class_mode='binary')"
   ]
  },
  {
   "cell_type": "markdown",
   "id": "f0175962",
   "metadata": {},
   "source": [
    "### Preview augmented images"
   ]
  },
  {
   "cell_type": "code",
   "execution_count": null,
   "id": "24de4fc4",
   "metadata": {},
   "outputs": [],
   "source": [
    "for _ in range(3):\n",
    "    img, label = next(train_set)\n",
    "    plt.imshow(img[0])\n",
    "    plt.axis(\"off\")\n",
    "    plt.show()"
   ]
  },
  {
   "cell_type": "markdown",
   "id": "94b00108",
   "metadata": {},
   "source": [
    "### Save class indices"
   ]
  },
  {
   "cell_type": "code",
   "execution_count": null,
   "id": "837f7ef2",
   "metadata": {},
   "outputs": [],
   "source": [
    "joblib.dump(train_set.class_indices, f\"{file_path}/class_indices.pkl\")"
   ]
  },
  {
   "cell_type": "markdown",
   "id": "cf33e6c1",
   "metadata": {},
   "source": [
    "### Create CNN Model"
   ]
  },
  {
   "cell_type": "code",
   "execution_count": null,
   "id": "9f8bf630",
   "metadata": {},
   "outputs": [],
   "source": [
    "def create_model():\n",
    "    model = Sequential([\n",
    "        Conv2D(32, (3, 3), activation='relu', input_shape=image_shape),\n",
    "        MaxPooling2D(2, 2),\n",
    "        Conv2D(64, (3, 3), activation='relu'),\n",
    "        MaxPooling2D(2, 2),\n",
    "        Conv2D(64, (3, 3), activation='relu'),\n",
    "        MaxPooling2D(2, 2),\n",
    "        Flatten(),\n",
    "        Dense(128, activation='relu'),\n",
    "        Dropout(0.5),\n",
    "        Dense(1, activation='sigmoid')\n",
    "    ])\n",
    "\n",
    "    model.compile(loss='binary_crossentropy', optimizer='adam', metrics=['accuracy'])\n",
    "    return model\n",
    "\n",
    "model = create_model()\n",
    "model.summary()"
   ]
  },
  {
   "cell_type": "markdown",
   "id": "45e61ebe",
   "metadata": {},
   "source": [
    "### Train the model"
   ]
  },
  {
   "cell_type": "code",
   "execution_count": null,
   "id": "f01c5c5f",
   "metadata": {},
   "outputs": [],
   "source": [
    "early_stop = EarlyStopping(monitor='val_loss', patience=3)\n",
    "\n",
    "history = model.fit(\n",
    "    train_set,\n",
    "    epochs=25,\n",
    "    steps_per_epoch=len(train_set),\n",
    "    validation_data=val_set,\n",
    "    validation_steps=len(val_set),\n",
    "    callbacks=[early_stop],\n",
    "    verbose=1\n",
    ")"
   ]
  },
  {
   "cell_type": "markdown",
   "id": "054c8514",
   "metadata": {},
   "source": [
    "### Save the model"
   ]
  },
  {
   "cell_type": "code",
   "execution_count": null,
   "id": "b24acea7",
   "metadata": {},
   "outputs": [],
   "source": [
    "model.save(\"/workspaces/cherry-leaves-health/jupyter_notebooks/outputs/v1/cherry_leaf_mildew_model.h5\")"
   ]
  },
  {
   "cell_type": "markdown",
   "id": "b6753ba1",
   "metadata": {},
   "source": [
    "### Learning Curves"
   ]
  },
  {
   "cell_type": "code",
   "execution_count": null,
   "id": "907b304e",
   "metadata": {},
   "outputs": [],
   "source": [
    "loss_df = pd.DataFrame(history.history)\n",
    "\n",
    "loss_df[['loss', 'val_loss']].plot(style='.-')\n",
    "plt.title(\"Training vs Validation Loss\")\n",
    "plt.savefig(f\"{file_path}/training_loss.png\", dpi=150)\n",
    "plt.show()\n",
    "\n",
    "loss_df[['accuracy', 'val_accuracy']].plot(style='.-')\n",
    "plt.title(\"Training vs Validation Accuracy\")\n",
    "plt.savefig(f\"{file_path}/training_accuracy.png\", dpi=150)\n",
    "plt.show()"
   ]
  },
  {
   "cell_type": "markdown",
   "id": "38d5bfbc",
   "metadata": {},
   "source": [
    "### Evaluate on Test Set"
   ]
  },
  {
   "cell_type": "code",
   "execution_count": null,
   "id": "c5ccbfcd",
   "metadata": {},
   "outputs": [],
   "source": [
    "K.clear_session()  # Clear previous model traces\n",
    "model = load_model(\"/workspaces/cherry-leaves-health/jupyter_notebooks/outputs/v1/cherry_leaf_mildew_model.h5\")\n",
    "\n",
    "test_eval = model.evaluate(test_set)\n",
    "print(\"Test Set Evaluation (Loss, Accuracy):\", test_eval)\n",
    "\n",
    "joblib.dump(test_eval, \"/workspaces/cherry-leaves-health/jupyter_notebooks/outputs/v1/evaluation.pkl\")"
   ]
  },
  {
   "cell_type": "markdown",
   "id": "91ca787a",
   "metadata": {},
   "source": [
    "### Predict on a random image"
   ]
  },
  {
   "cell_type": "code",
   "execution_count": null,
   "id": "60efa28a",
   "metadata": {},
   "outputs": [],
   "source": [
    "def predict_image(model, image_path, class_map):\n",
    "    img = load_img(image_path, target_size=image_shape[:2])\n",
    "    arr = img_to_array(img) / 255.\n",
    "    arr = np.expand_dims(arr, axis=0)\n",
    "    prob = model.predict(arr)[0, 0]\n",
    "    pred_class = class_map[int(prob > 0.5)]\n",
    "    confidence = prob if pred_class == class_map[1] else 1 - prob\n",
    "    return pred_class, confidence\n",
    "\n",
    "pointer = 10\n",
    "label = labels[0]\n",
    "img_file = os.listdir(f\"{test_path}/{label}\")[pointer]\n",
    "img_path = os.path.join(test_path, label, img_file)\n",
    "\n",
    "plt.imshow(load_img(img_path))\n",
    "plt.axis(\"off\")\n",
    "plt.title(f\"Test Image - {label}\")\n",
    "plt.show()\n",
    "\n",
    "class_map = {v: k for k, v in train_set.class_indices.items()}\n",
    "pred, conf = predict_image(model, img_path, class_map)\n",
    "print(f\"Predicted: {pred} ({conf:.2f} confidence)\")"
   ]
  },
  {
   "cell_type": "markdown",
   "id": "7bbab1f7",
   "metadata": {},
   "source": [
    "### Push files to repo"
   ]
  }
 ],
 "metadata": {
  "language_info": {
   "name": "python"
  }
 },
 "nbformat": 4,
 "nbformat_minor": 5
}
