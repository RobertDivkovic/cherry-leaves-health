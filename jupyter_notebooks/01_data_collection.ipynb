{
 "cells": [
  {
   "cell_type": "markdown",
   "id": "3003de75",
   "metadata": {},
   "source": [
    "## 01 - Data Collection"
   ]
  },
  {
   "cell_type": "markdown",
   "id": "b3fc4faf",
   "metadata": {},
   "source": [
    "### Objective:"
   ]
  },
  {
   "cell_type": "markdown",
   "id": "c31b8fc1",
   "metadata": {},
   "source": [
    "- Install and configure Kaggle API\n",
    "- Download and unzip the \"Cherry Leaves\" dataset"
   ]
  },
  {
   "cell_type": "code",
   "execution_count": null,
   "id": "b564d9ad",
   "metadata": {},
   "outputs": [],
   "source": [
    "%pip install -r /workspaces/cherry-leaves-health/requirements.txt"
   ]
  },
  {
   "cell_type": "markdown",
   "id": "9c0fa286",
   "metadata": {},
   "source": [
    "Import packages"
   ]
  },
  {
   "cell_type": "code",
   "execution_count": 2,
   "id": "70e74968",
   "metadata": {},
   "outputs": [],
   "source": [
    "import numpy\n",
    "import os"
   ]
  },
  {
   "cell_type": "code",
   "execution_count": 3,
   "id": "3a240855",
   "metadata": {},
   "outputs": [
    {
     "name": "stdout",
     "output_type": "stream",
     "text": [
      "You set a new current directory\n"
     ]
    }
   ],
   "source": [
    "os.chdir('/workspaces/cherry-leaves-health')\n",
    "print(\"You set a new current directory\")"
   ]
  },
  {
   "cell_type": "code",
   "execution_count": 4,
   "id": "2e84cbc3",
   "metadata": {},
   "outputs": [
    {
     "data": {
      "text/plain": [
       "'/workspaces/cherry-leaves-health'"
      ]
     },
     "execution_count": 4,
     "metadata": {},
     "output_type": "execute_result"
    }
   ],
   "source": [
    "current_dir = os.getcwd()\n",
    "current_dir"
   ]
  },
  {
   "cell_type": "markdown",
   "id": "96b936bd",
   "metadata": {},
   "source": [
    "### Step 1: Install Kaggle and Set Up Environment"
   ]
  },
  {
   "cell_type": "code",
   "execution_count": 5,
   "id": "cb834b20",
   "metadata": {},
   "outputs": [
    {
     "name": "stdout",
     "output_type": "stream",
     "text": [
      "Requirement already satisfied: kaggle in /home/cistudent/.local/lib/python3.12/site-packages (1.7.4.2)\n",
      "Requirement already satisfied: bleach in /home/cistudent/.pyenv/versions/3.12.1/lib/python3.12/site-packages (from kaggle) (6.2.0)\n",
      "Requirement already satisfied: certifi>=14.05.14 in /home/cistudent/.pyenv/versions/3.12.1/lib/python3.12/site-packages (from kaggle) (2024.12.14)\n",
      "Requirement already satisfied: charset-normalizer in /home/cistudent/.pyenv/versions/3.12.1/lib/python3.12/site-packages (from kaggle) (3.4.0)\n",
      "Requirement already satisfied: idna in /home/cistudent/.pyenv/versions/3.12.1/lib/python3.12/site-packages (from kaggle) (3.10)\n",
      "Requirement already satisfied: protobuf in /home/cistudent/.local/lib/python3.12/site-packages (from kaggle) (4.25.6)\n",
      "Requirement already satisfied: python-dateutil>=2.5.3 in /home/cistudent/.pyenv/versions/3.12.1/lib/python3.12/site-packages (from kaggle) (2.9.0.post0)\n",
      "Requirement already satisfied: python-slugify in /home/cistudent/.local/lib/python3.12/site-packages (from kaggle) (8.0.4)\n",
      "Requirement already satisfied: requests in /home/cistudent/.pyenv/versions/3.12.1/lib/python3.12/site-packages (from kaggle) (2.32.3)\n",
      "Requirement already satisfied: setuptools>=21.0.0 in /home/cistudent/.pyenv/versions/3.12.1/lib/python3.12/site-packages (from kaggle) (75.6.0)\n",
      "Requirement already satisfied: six>=1.10 in /home/cistudent/.pyenv/versions/3.12.1/lib/python3.12/site-packages (from kaggle) (1.17.0)\n",
      "Requirement already satisfied: text-unidecode in /home/cistudent/.local/lib/python3.12/site-packages (from kaggle) (1.3)\n",
      "Requirement already satisfied: tqdm in /home/cistudent/.local/lib/python3.12/site-packages (from kaggle) (4.67.1)\n",
      "Requirement already satisfied: urllib3>=1.15.1 in /home/cistudent/.pyenv/versions/3.12.1/lib/python3.12/site-packages (from kaggle) (2.2.3)\n",
      "Requirement already satisfied: webencodings in /home/cistudent/.pyenv/versions/3.12.1/lib/python3.12/site-packages (from kaggle) (0.5.1)\n",
      "Note: you may need to restart the kernel to use updated packages.\n"
     ]
    }
   ],
   "source": [
    "%pip install kaggle"
   ]
  },
  {
   "cell_type": "markdown",
   "id": "81c0677d",
   "metadata": {},
   "source": [
    "### Step 2: Set File Permissions for kaggle.json"
   ]
  },
  {
   "cell_type": "code",
   "execution_count": 7,
   "id": "484d02fb",
   "metadata": {},
   "outputs": [],
   "source": [
    "os.environ['KAGGLE_CONFIG_DIR'] = os.getcwd()\n",
    "! chmod 600 kaggle.json"
   ]
  },
  {
   "cell_type": "markdown",
   "id": "edf27940",
   "metadata": {},
   "source": [
    "### Step 3: Download Dataset from Kaggle"
   ]
  },
  {
   "cell_type": "code",
   "execution_count": 8,
   "id": "51e600a1",
   "metadata": {},
   "outputs": [
    {
     "name": "stdout",
     "output_type": "stream",
     "text": [
      "Dataset URL: https://www.kaggle.com/datasets/codeinstitute/cherry-leaves\n",
      "License(s): unknown\n"
     ]
    }
   ],
   "source": [
    "KaggleDatasetPath = \"codeinstitute/cherry-leaves\"\n",
    "DestinationFolder = \"inputs/cherry_leaves_dataset\"   \n",
    "! kaggle datasets download -d {KaggleDatasetPath} -p {DestinationFolder}"
   ]
  },
  {
   "cell_type": "markdown",
   "id": "c27f8cd2",
   "metadata": {},
   "source": [
    "### Step 4: Unzip Dataset"
   ]
  },
  {
   "cell_type": "code",
   "execution_count": 9,
   "id": "54bfa1c4",
   "metadata": {},
   "outputs": [],
   "source": [
    "import zipfile\n",
    "with zipfile.ZipFile(DestinationFolder + '/cherry-leaves.zip', 'r') as zip_ref:\n",
    "    zip_ref.extractall(DestinationFolder)\n",
    "\n",
    "os.remove(DestinationFolder + '/cherry-leaves.zip')"
   ]
  },
  {
   "cell_type": "markdown",
   "id": "83993bab",
   "metadata": {},
   "source": [
    "## Data Preparation"
   ]
  },
  {
   "cell_type": "markdown",
   "id": "fc1771ec",
   "metadata": {},
   "source": [
    "### Data cleaning"
   ]
  },
  {
   "cell_type": "markdown",
   "id": "da3681d5",
   "metadata": {},
   "source": [
    "### Check and remove non image files"
   ]
  },
  {
   "cell_type": "code",
   "execution_count": 10,
   "id": "8646faf0",
   "metadata": {},
   "outputs": [
    {
     "name": "stdout",
     "output_type": "stream",
     "text": [
      "Data cleaning complete.\n",
      "Removed from healthy: []\n",
      "Removed from mildew: []\n"
     ]
    }
   ],
   "source": [
    "import os\n",
    "\n",
    "# Paths to the image folders\n",
    "healthy_dir = \"/workspaces/cherry-leaves-health/inputs/cherry_leaves_dataset/cherry-leaves/healthy\"\n",
    "mildew_dir = \"/workspaces/cherry-leaves-health/inputs/cherry_leaves_dataset/cherry-leaves/powdery_mildew\"\n",
    "\n",
    "def remove_non_images(directory):\n",
    "    removed_files = []\n",
    "    valid_ext = [\".jpg\", \".jpeg\", \".png\"]\n",
    "\n",
    "    for filename in os.listdir(directory):\n",
    "        ext = os.path.splitext(filename)[1].lower()  # Normalize extension to lowercase\n",
    "        if ext not in valid_ext:\n",
    "            file_path = os.path.join(directory, filename)\n",
    "            os.remove(file_path)\n",
    "            removed_files.append(filename)\n",
    "\n",
    "    return removed_files\n",
    "\n",
    "# Clean both folders\n",
    "removed_healthy = remove_non_images(healthy_dir)\n",
    "removed_mildew = remove_non_images(mildew_dir)\n",
    "\n",
    "print(\"Data cleaning complete.\")\n",
    "print(f\"Removed from healthy: {removed_healthy}\")\n",
    "print(f\"Removed from mildew: {removed_mildew}\")"
   ]
  },
  {
   "cell_type": "markdown",
   "id": "c296633a",
   "metadata": {},
   "source": [
    "## Split train validation test set"
   ]
  },
  {
   "cell_type": "code",
   "execution_count": 11,
   "id": "bfb6b37e",
   "metadata": {},
   "outputs": [
    {
     "name": "stdout",
     "output_type": "stream",
     "text": [
      "healthy: 2104 images → 1472 train, 315 val, 317 test\n",
      "powdery_mildew: 2104 images → 1472 train, 315 val, 317 test\n"
     ]
    }
   ],
   "source": [
    "import os\n",
    "import shutil\n",
    "import random\n",
    "from pathlib import Path\n",
    "\n",
    "# Define source folders\n",
    "healthy_src = Path(\"/workspaces/cherry-leaves-health/inputs/cherry_leaves_dataset/cherry-leaves/healthy\")\n",
    "mildew_src = Path(\"/workspaces/cherry-leaves-health/inputs/cherry_leaves_dataset/cherry-leaves/powdery_mildew\")\n",
    "\n",
    "# Define destination for split dataset\n",
    "base_output = Path(\"/workspaces/cherry-leaves-health/inputs/cherry_leaves_split\")\n",
    "classes = [\"healthy\", \"powdery_mildew\"]\n",
    "\n",
    "# Define split ratios\n",
    "train_ratio = 0.7\n",
    "val_ratio = 0.15\n",
    "test_ratio = 0.15\n",
    "\n",
    "def split_and_copy(class_name, src_dir):\n",
    "    # List image files\n",
    "    files = [f for f in os.listdir(src_dir) if f.lower().endswith((\".jpg\", \".jpeg\", \".png\"))]\n",
    "\n",
    "    if len(files) == 0:\n",
    "        print(f\"No images found in {src_dir}. Skipping {class_name}.\")\n",
    "        return\n",
    "\n",
    "    random.shuffle(files)\n",
    "\n",
    "    n_total = len(files)\n",
    "    n_train = int(n_total * train_ratio)\n",
    "    n_val = int(n_total * val_ratio)\n",
    "\n",
    "    train_files = files[:n_train]\n",
    "    val_files = files[n_train:n_train + n_val]\n",
    "    test_files = files[n_train + n_val:]\n",
    "\n",
    "    for split_name, split_files in zip([\"train\", \"val\", \"test\"], [train_files, val_files, test_files]):\n",
    "        split_dir = base_output / split_name / class_name\n",
    "        split_dir.mkdir(parents=True, exist_ok=True)\n",
    "\n",
    "        for file in split_files:\n",
    "            src_file = src_dir / file\n",
    "            dst_file = split_dir / file\n",
    "\n",
    "            if not dst_file.exists():  # Prevent duplicates\n",
    "                shutil.copy(src_file, dst_file)\n",
    "\n",
    "    print(f\"{class_name}: {n_total} images → {n_train} train, {n_val} val, {len(test_files)} test\")\n",
    "\n",
    "# Run the splitting\n",
    "split_and_copy(\"healthy\", healthy_src)\n",
    "split_and_copy(\"powdery_mildew\", mildew_src)"
   ]
  }
 ],
 "metadata": {
  "kernelspec": {
   "display_name": "3.12.1",
   "language": "python",
   "name": "python3"
  },
  "language_info": {
   "codemirror_mode": {
    "name": "ipython",
    "version": 3
   },
   "file_extension": ".py",
   "mimetype": "text/x-python",
   "name": "python",
   "nbconvert_exporter": "python",
   "pygments_lexer": "ipython3",
   "version": "3.12.1"
  }
 },
 "nbformat": 4,
 "nbformat_minor": 5
}
